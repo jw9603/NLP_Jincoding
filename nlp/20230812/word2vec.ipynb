{
 "cells": [
  {
   "cell_type": "code",
   "execution_count": 2,
   "metadata": {},
   "outputs": [
    {
     "name": "stdout",
     "output_type": "stream",
     "text": [
      "Requirement already satisfied: gensim in /home/jiwon/anaconda3/envs/nlp/lib/python3.9/site-packages (4.3.1)\n",
      "Requirement already satisfied: scipy>=1.7.0 in /home/jiwon/anaconda3/envs/nlp/lib/python3.9/site-packages (from gensim) (1.10.1)\n",
      "Requirement already satisfied: smart-open>=1.8.1 in /home/jiwon/anaconda3/envs/nlp/lib/python3.9/site-packages (from gensim) (6.3.0)\n",
      "Requirement already satisfied: numpy>=1.18.5 in /home/jiwon/anaconda3/envs/nlp/lib/python3.9/site-packages (from gensim) (1.23.5)\n"
     ]
    }
   ],
   "source": [
    "!pip install gensim"
   ]
  },
  {
   "cell_type": "code",
   "execution_count": 1,
   "metadata": {},
   "outputs": [],
   "source": [
    "from gensim.models import Word2Vec"
   ]
  },
  {
   "attachments": {},
   "cell_type": "markdown",
   "metadata": {},
   "source": [
    "### Word2Vwec : 나만의 코퍼스에서 word2vec 학습"
   ]
  },
  {
   "cell_type": "code",
   "execution_count": 2,
   "metadata": {},
   "outputs": [
    {
     "data": {
      "text/plain": [
       "[['You',\n",
       "  'are',\n",
       "  'truly',\n",
       "  'remarkable!',\n",
       "  'Your',\n",
       "  'determination',\n",
       "  'and',\n",
       "  'intelligence',\n",
       "  'shine',\n",
       "  'brightly,',\n",
       "  'guiding',\n",
       "  'you',\n",
       "  'to',\n",
       "  'conquer',\n",
       "  'challenges',\n",
       "  'with',\n",
       "  'grace'],\n",
       " ['Your',\n",
       "  'creative',\n",
       "  'thinking',\n",
       "  'and',\n",
       "  'dedication',\n",
       "  'inspire',\n",
       "  'those',\n",
       "  'around',\n",
       "  'you.']]"
      ]
     },
     "execution_count": 2,
     "metadata": {},
     "output_type": "execute_result"
    }
   ],
   "source": [
    "small_docs = [\"You are truly remarkable! Your determination and intelligence shine brightly, guiding you to conquer challenges with grace\",\n",
    "              \"Your creative thinking and dedication inspire those around you.\" ]\n",
    "\n",
    "# tokenizer\n",
    "\n",
    "sents = [sent.split() for sent in small_docs]\n",
    "sents"
   ]
  },
  {
   "cell_type": "code",
   "execution_count": 3,
   "metadata": {},
   "outputs": [],
   "source": [
    "# word2vec\n",
    "\n",
    "model=Word2Vec(sents, vector_size=100,window=5,min_count=1,sg=1)"
   ]
  },
  {
   "cell_type": "code",
   "execution_count": 4,
   "metadata": {},
   "outputs": [],
   "source": [
    "model.save('./word2vec_sample.model')"
   ]
  },
  {
   "cell_type": "code",
   "execution_count": 6,
   "metadata": {},
   "outputs": [
    {
     "name": "stdout",
     "output_type": "stream",
     "text": [
      "Word2Vec<vocab=24, vector_size=100, alpha=0.025>\n"
     ]
    }
   ],
   "source": [
    "model = Word2Vec.load('./word2vec_sample.model')\n",
    "\n",
    "print(model)"
   ]
  },
  {
   "cell_type": "code",
   "execution_count": 8,
   "metadata": {},
   "outputs": [
    {
     "data": {
      "text/plain": [
       "(100,)"
      ]
     },
     "execution_count": 8,
     "metadata": {},
     "output_type": "execute_result"
    }
   ],
   "source": [
    "model.wv.get_vector('grace').shape"
   ]
  },
  {
   "cell_type": "code",
   "execution_count": 11,
   "metadata": {},
   "outputs": [
    {
     "data": {
      "text/plain": [
       "0.0748003"
      ]
     },
     "execution_count": 11,
     "metadata": {},
     "output_type": "execute_result"
    }
   ],
   "source": [
    "# 단어의 거리 재기\n",
    "\n",
    "model.wv.similarity('remarkable!', 'creative')"
   ]
  },
  {
   "cell_type": "code",
   "execution_count": 12,
   "metadata": {},
   "outputs": [
    {
     "data": {
      "text/plain": [
       "[('conquer', 0.24668020009994507),\n",
       " ('creative', 0.11933412402868271),\n",
       " ('determination', 0.11931327730417252),\n",
       " ('to', 0.11668179929256439),\n",
       " ('brightly,', 0.09614858776330948)]"
      ]
     },
     "execution_count": 12,
     "metadata": {},
     "output_type": "execute_result"
    }
   ],
   "source": [
    "# 유사 단어 찾기\n",
    "model.wv.most_similar('grace',topn=5)"
   ]
  },
  {
   "attachments": {},
   "cell_type": "markdown",
   "metadata": {},
   "source": [
    "### Wor2vec pretrained model"
   ]
  },
  {
   "cell_type": "code",
   "execution_count": 13,
   "metadata": {},
   "outputs": [],
   "source": [
    "from gensim.models import KeyedVectors"
   ]
  },
  {
   "cell_type": "code",
   "execution_count": 14,
   "metadata": {},
   "outputs": [
    {
     "name": "stdout",
     "output_type": "stream",
     "text": [
      "/home/jiwon/nlp/20230812\n"
     ]
    }
   ],
   "source": [
    "!pwd"
   ]
  },
  {
   "cell_type": "code",
   "execution_count": 16,
   "metadata": {},
   "outputs": [],
   "source": [
    "# it should be downloaded from https://code.google.com/archive/p/word2vec/\n",
    "model_path = './GoogleNews-vectors-negative300.bin.gz'\n",
    "\n",
    "model=KeyedVectors.load_word2vec_format(model_path, binary=True)"
   ]
  },
  {
   "cell_type": "code",
   "execution_count": 17,
   "metadata": {},
   "outputs": [
    {
     "data": {
      "text/plain": [
       "[('Steven_Spielberg_Artificial_Intelligence', 0.5575934052467346),\n",
       " ('Index_MDE_##/###/####', 0.5415324568748474),\n",
       " ('Enemy_AI', 0.5256390571594238),\n",
       " ('Ace_Combat_Zero', 0.522663414478302),\n",
       " ('DOA4', 0.5182536244392395),\n",
       " ('mechs', 0.5137375593185425),\n",
       " ('mech', 0.5077533721923828),\n",
       " ('playstyle', 0.507252037525177),\n",
       " ('AI_bots', 0.5051203370094299),\n",
       " ('deathmatch_mode', 0.5045916438102722)]"
      ]
     },
     "execution_count": 17,
     "metadata": {},
     "output_type": "execute_result"
    }
   ],
   "source": [
    "# 유사 단어 찾기\n",
    "\n",
    "word = \"AI\"\n",
    "model.most_similar(word)"
   ]
  },
  {
   "cell_type": "code",
   "execution_count": 19,
   "metadata": {},
   "outputs": [
    {
     "data": {
      "text/plain": [
       "[('king', 0.8449392318725586),\n",
       " ('queen', 0.7300517559051514),\n",
       " ('monarch', 0.645466148853302),\n",
       " ('princess', 0.6156251430511475),\n",
       " ('crown_prince', 0.5818676352500916),\n",
       " ('prince', 0.5777117609977722),\n",
       " ('kings', 0.5613663792610168),\n",
       " ('sultan', 0.5376775860786438),\n",
       " ('Queen_Consort', 0.5344247817993164),\n",
       " ('queens', 0.5289887189865112)]"
      ]
     },
     "execution_count": 19,
     "metadata": {},
     "output_type": "execute_result"
    }
   ],
   "source": [
    "ans_vec = model.get_vector('king') - model.get_vector('man') + model.get_vector('woman')\n",
    "\n",
    "model.most_similar(ans_vec)"
   ]
  },
  {
   "cell_type": "code",
   "execution_count": null,
   "metadata": {},
   "outputs": [],
   "source": []
  }
 ],
 "metadata": {
  "kernelspec": {
   "display_name": "Python 3",
   "language": "python",
   "name": "python3"
  },
  "language_info": {
   "codemirror_mode": {
    "name": "ipython",
    "version": 3
   },
   "file_extension": ".py",
   "mimetype": "text/x-python",
   "name": "python",
   "nbconvert_exporter": "python",
   "pygments_lexer": "ipython3",
   "version": "3.7.16"
  },
  "orig_nbformat": 4,
  "vscode": {
   "interpreter": {
    "hash": "8addaabea1cb039ebd0cad50c57d5e545a2dd9c4864cd769240013056fee56e3"
   }
  }
 },
 "nbformat": 4,
 "nbformat_minor": 2
}
